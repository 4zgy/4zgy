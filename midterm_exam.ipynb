import matplotlib.pyplot as plt   
 
years = [2018,2020,2022,2024,2026,2028,2030]
market_size = [70,184.5,326.1,439.2,657.3,927.2,1179]
 
plt.plot(years, market_size, color = 'green', marker = 'o', linestyle = 'solid')
 
plt.title('AI Processer market size') 
 
plt.ylabel('Million dollars')

plt.show()

# data from KISDI, Gartner 2020 
